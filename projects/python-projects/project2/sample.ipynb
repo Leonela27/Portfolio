{
 "cells": [
  {
   "cell_type": "markdown",
   "metadata": {},
   "source": [
    "## Stratified Sample\n",
    "\n",
    "The objective of this notebook is to obtain a stratified sample of Los Angeles crimes from 2020 to 2023. A stratified sample was chosen because it ensures that each year and crime category is adequately represented in the dataset, which provides a more accurate and comprehensive analysis of crime patterns over time. The original data was obtained from the City of Los Angeles Public Data Catalog, dataset [`Crime_Data_from_2020_to_Present_20240905.csv`](../data/raw/Crime_Data_from_2020_to_Present_20240905.csv).\n"
   ]
  },
  {
   "cell_type": "code",
   "execution_count": null,
   "metadata": {},
   "outputs": [],
   "source": [
    "import pandas as pd\n",
    "\n",
    "csv_path = \"../data/raw/Crime_Data_from_2020_to_Present_20240905.csv\"\n",
    "\n",
    "# Read the CSV file and parse dates\n",
    "crimes = pd.read_csv(\n",
    "    csv_path, \n",
    "    parse_dates=['Date Rptd','DATE OCC'],\n",
    "    dtype={\"TIME OCC\": int}\n",
    ")\n",
    "\n",
    "crimes['year'] = crimes['DATE OCC'].dt.year\n",
    "\n",
    "\n",
    "# Perform stratified sampling by year\n",
    "crimes = crimes.groupby(\"year\").sample(frac=1/3, random_state=2021)\n",
    "\n",
    "# Define the column filter\n",
    "filter = ['DR_NO', 'Date Rptd', 'DATE OCC','year', 'TIME OCC', 'AREA NAME', 'Crm Cd Desc', 'Vict Age', 'Vict Sex', 'Vict Descent', 'Weapon Desc', 'Status Desc']\n",
    "\n",
    "# Exclude data for the year 2024 as it is still in progress\n",
    "crimes = crimes[crimes['year'] != 2024]\n",
    "\n",
    "# Save the DataFrame to a CSV file\n",
    "crimes.to_csv(\n",
    "    \"../data/raw/Crime_2020_2023.csv\", \n",
    "    index=False, \n",
    "    columns=filter\n",
    ")\n",
    "\n",
    "print(\"CSV file saved successfully.\")\n"
   ]
  },
  {
   "cell_type": "code",
   "execution_count": null,
   "metadata": {},
   "outputs": [],
   "source": []
  }
 ],
 "metadata": {
  "kernelspec": {
   "display_name": "venv",
   "language": "python",
   "name": "python3"
  },
  "language_info": {
   "codemirror_mode": {
    "name": "ipython",
    "version": 3
   },
   "file_extension": ".py",
   "mimetype": "text/x-python",
   "name": "python",
   "nbconvert_exporter": "python",
   "pygments_lexer": "ipython3",
   "version": "3.12.3"
  }
 },
 "nbformat": 4,
 "nbformat_minor": 2
}
