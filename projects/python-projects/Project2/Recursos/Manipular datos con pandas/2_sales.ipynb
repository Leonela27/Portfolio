{
 "cells": [
  {
   "cell_type": "markdown",
   "id": "ad73a0a6-c6e2-4af8-ba65-d162f8a07a26",
   "metadata": {
    "jp-MarkdownHeadingCollapsed": true
   },
   "source": [
    "# Sales dataset\n"
   ]
  },
  {
   "cell_type": "markdown",
   "id": "a63b010c-b8e0-487c-a60f-cea232d0307b",
   "metadata": {},
   "source": [
    "# Objetivo\n",
    "Centralizar los conceptos vistos en el capitulo 2 del curso \"manipulaicon de datos con pandas\"\n",
    "\n",
    "En este notebook los conceptos que se presentan son\n",
    "- media y mediana\n",
    "- metodo agg\n",
    "- eliminar duplicados: drop_duplicates\n",
    "- contar variables categoricas: value_counts\n",
    "- agrupar: groupby\n",
    "- tablas dinamicas: pivot_table"
   ]
  },
  {
   "cell_type": "code",
   "execution_count": 9,
   "id": "579a54ed-a081-434f-8ab1-dd5d6b4ba897",
   "metadata": {},
   "outputs": [],
   "source": [
    "import pandas as pd\n",
    "import numpy as np"
   ]
  },
  {
   "cell_type": "code",
   "execution_count": 2,
   "id": "36f4a90a-c98b-4275-9f44-1b1c94d313c8",
   "metadata": {},
   "outputs": [],
   "source": [
    "df_sales = pd.read_csv('sales_subset.csv')"
   ]
  },
  {
   "cell_type": "code",
   "execution_count": 3,
   "id": "c905d7c8-7084-48cf-8f59-de3674355040",
   "metadata": {},
   "outputs": [
    {
     "name": "stdout",
     "output_type": "stream",
     "text": [
      "<class 'pandas.core.frame.DataFrame'>\n",
      "RangeIndex: 10774 entries, 0 to 10773\n",
      "Data columns (total 10 columns):\n",
      " #   Column                Non-Null Count  Dtype  \n",
      "---  ------                --------------  -----  \n",
      " 0   Unnamed: 0            10774 non-null  int64  \n",
      " 1   store                 10774 non-null  int64  \n",
      " 2   type                  10774 non-null  object \n",
      " 3   department            10774 non-null  int64  \n",
      " 4   date                  10774 non-null  object \n",
      " 5   weekly_sales          10774 non-null  float64\n",
      " 6   is_holiday            10774 non-null  bool   \n",
      " 7   temperature_c         10774 non-null  float64\n",
      " 8   fuel_price_usd_per_l  10774 non-null  float64\n",
      " 9   unemployment          10774 non-null  float64\n",
      "dtypes: bool(1), float64(4), int64(3), object(2)\n",
      "memory usage: 768.2+ KB\n"
     ]
    }
   ],
   "source": [
    "df_sales.info()"
   ]
  },
  {
   "cell_type": "code",
   "execution_count": 4,
   "id": "c989b412-e4b9-49fa-9494-04edd0d64d06",
   "metadata": {},
   "outputs": [
    {
     "data": {
      "text/html": [
       "<div>\n",
       "<style scoped>\n",
       "    .dataframe tbody tr th:only-of-type {\n",
       "        vertical-align: middle;\n",
       "    }\n",
       "\n",
       "    .dataframe tbody tr th {\n",
       "        vertical-align: top;\n",
       "    }\n",
       "\n",
       "    .dataframe thead th {\n",
       "        text-align: right;\n",
       "    }\n",
       "</style>\n",
       "<table border=\"1\" class=\"dataframe\">\n",
       "  <thead>\n",
       "    <tr style=\"text-align: right;\">\n",
       "      <th></th>\n",
       "      <th>Unnamed: 0</th>\n",
       "      <th>store</th>\n",
       "      <th>department</th>\n",
       "      <th>weekly_sales</th>\n",
       "      <th>temperature_c</th>\n",
       "      <th>fuel_price_usd_per_l</th>\n",
       "      <th>unemployment</th>\n",
       "    </tr>\n",
       "  </thead>\n",
       "  <tbody>\n",
       "    <tr>\n",
       "      <th>count</th>\n",
       "      <td>10774.000000</td>\n",
       "      <td>10774.000000</td>\n",
       "      <td>10774.000000</td>\n",
       "      <td>10774.000000</td>\n",
       "      <td>10774.000000</td>\n",
       "      <td>10774.000000</td>\n",
       "      <td>10774.000000</td>\n",
       "    </tr>\n",
       "    <tr>\n",
       "      <th>mean</th>\n",
       "      <td>5386.500000</td>\n",
       "      <td>15.441897</td>\n",
       "      <td>45.218118</td>\n",
       "      <td>23843.950149</td>\n",
       "      <td>15.731978</td>\n",
       "      <td>0.749746</td>\n",
       "      <td>8.082009</td>\n",
       "    </tr>\n",
       "    <tr>\n",
       "      <th>std</th>\n",
       "      <td>3110.330234</td>\n",
       "      <td>11.534511</td>\n",
       "      <td>29.867779</td>\n",
       "      <td>30220.387557</td>\n",
       "      <td>9.922446</td>\n",
       "      <td>0.059494</td>\n",
       "      <td>0.624355</td>\n",
       "    </tr>\n",
       "    <tr>\n",
       "      <th>min</th>\n",
       "      <td>0.000000</td>\n",
       "      <td>1.000000</td>\n",
       "      <td>1.000000</td>\n",
       "      <td>-1098.000000</td>\n",
       "      <td>-8.366667</td>\n",
       "      <td>0.664129</td>\n",
       "      <td>3.879000</td>\n",
       "    </tr>\n",
       "    <tr>\n",
       "      <th>25%</th>\n",
       "      <td>2693.250000</td>\n",
       "      <td>4.000000</td>\n",
       "      <td>20.000000</td>\n",
       "      <td>3867.115000</td>\n",
       "      <td>7.583333</td>\n",
       "      <td>0.708246</td>\n",
       "      <td>7.795000</td>\n",
       "    </tr>\n",
       "    <tr>\n",
       "      <th>50%</th>\n",
       "      <td>5386.500000</td>\n",
       "      <td>13.000000</td>\n",
       "      <td>40.000000</td>\n",
       "      <td>12049.065000</td>\n",
       "      <td>16.966667</td>\n",
       "      <td>0.743381</td>\n",
       "      <td>8.099000</td>\n",
       "    </tr>\n",
       "    <tr>\n",
       "      <th>75%</th>\n",
       "      <td>8079.750000</td>\n",
       "      <td>20.000000</td>\n",
       "      <td>72.000000</td>\n",
       "      <td>32349.850000</td>\n",
       "      <td>24.166667</td>\n",
       "      <td>0.781421</td>\n",
       "      <td>8.360000</td>\n",
       "    </tr>\n",
       "    <tr>\n",
       "      <th>max</th>\n",
       "      <td>10773.000000</td>\n",
       "      <td>39.000000</td>\n",
       "      <td>99.000000</td>\n",
       "      <td>293966.050000</td>\n",
       "      <td>33.827778</td>\n",
       "      <td>1.107674</td>\n",
       "      <td>9.765000</td>\n",
       "    </tr>\n",
       "  </tbody>\n",
       "</table>\n",
       "</div>"
      ],
      "text/plain": [
       "         Unnamed: 0         store    department   weekly_sales  temperature_c  \\\n",
       "count  10774.000000  10774.000000  10774.000000   10774.000000   10774.000000   \n",
       "mean    5386.500000     15.441897     45.218118   23843.950149      15.731978   \n",
       "std     3110.330234     11.534511     29.867779   30220.387557       9.922446   \n",
       "min        0.000000      1.000000      1.000000   -1098.000000      -8.366667   \n",
       "25%     2693.250000      4.000000     20.000000    3867.115000       7.583333   \n",
       "50%     5386.500000     13.000000     40.000000   12049.065000      16.966667   \n",
       "75%     8079.750000     20.000000     72.000000   32349.850000      24.166667   \n",
       "max    10773.000000     39.000000     99.000000  293966.050000      33.827778   \n",
       "\n",
       "       fuel_price_usd_per_l  unemployment  \n",
       "count          10774.000000  10774.000000  \n",
       "mean               0.749746      8.082009  \n",
       "std                0.059494      0.624355  \n",
       "min                0.664129      3.879000  \n",
       "25%                0.708246      7.795000  \n",
       "50%                0.743381      8.099000  \n",
       "75%                0.781421      8.360000  \n",
       "max                1.107674      9.765000  "
      ]
     },
     "execution_count": 4,
     "metadata": {},
     "output_type": "execute_result"
    }
   ],
   "source": [
    "df_sales.describe()"
   ]
  },
  {
   "cell_type": "code",
   "execution_count": 5,
   "id": "c95db198-4400-421d-a271-cadef3cbd7e5",
   "metadata": {},
   "outputs": [
    {
     "data": {
      "text/plain": [
       "Index(['Unnamed: 0', 'store', 'type', 'department', 'date', 'weekly_sales',\n",
       "       'is_holiday', 'temperature_c', 'fuel_price_usd_per_l', 'unemployment'],\n",
       "      dtype='object')"
      ]
     },
     "execution_count": 5,
     "metadata": {},
     "output_type": "execute_result"
    }
   ],
   "source": [
    "df_sales.columns"
   ]
  },
  {
   "cell_type": "code",
   "execution_count": 7,
   "id": "d2c961e3-17c7-4cf3-8efb-a104a164aa78",
   "metadata": {},
   "outputs": [
    {
     "data": {
      "text/html": [
       "<div>\n",
       "<style scoped>\n",
       "    .dataframe tbody tr th:only-of-type {\n",
       "        vertical-align: middle;\n",
       "    }\n",
       "\n",
       "    .dataframe tbody tr th {\n",
       "        vertical-align: top;\n",
       "    }\n",
       "\n",
       "    .dataframe thead th {\n",
       "        text-align: right;\n",
       "    }\n",
       "</style>\n",
       "<table border=\"1\" class=\"dataframe\">\n",
       "  <thead>\n",
       "    <tr style=\"text-align: right;\">\n",
       "      <th></th>\n",
       "      <th>Unnamed: 0</th>\n",
       "      <th>store</th>\n",
       "      <th>type</th>\n",
       "      <th>department</th>\n",
       "      <th>date</th>\n",
       "      <th>weekly_sales</th>\n",
       "      <th>is_holiday</th>\n",
       "      <th>temperature_c</th>\n",
       "      <th>fuel_price_usd_per_l</th>\n",
       "      <th>unemployment</th>\n",
       "    </tr>\n",
       "  </thead>\n",
       "  <tbody>\n",
       "    <tr>\n",
       "      <th>0</th>\n",
       "      <td>0</td>\n",
       "      <td>1</td>\n",
       "      <td>A</td>\n",
       "      <td>1</td>\n",
       "      <td>2010-02-05</td>\n",
       "      <td>24924.50</td>\n",
       "      <td>False</td>\n",
       "      <td>5.727778</td>\n",
       "      <td>0.679451</td>\n",
       "      <td>8.106</td>\n",
       "    </tr>\n",
       "    <tr>\n",
       "      <th>1</th>\n",
       "      <td>1</td>\n",
       "      <td>1</td>\n",
       "      <td>A</td>\n",
       "      <td>1</td>\n",
       "      <td>2010-03-05</td>\n",
       "      <td>21827.90</td>\n",
       "      <td>False</td>\n",
       "      <td>8.055556</td>\n",
       "      <td>0.693452</td>\n",
       "      <td>8.106</td>\n",
       "    </tr>\n",
       "    <tr>\n",
       "      <th>2</th>\n",
       "      <td>2</td>\n",
       "      <td>1</td>\n",
       "      <td>A</td>\n",
       "      <td>1</td>\n",
       "      <td>2010-04-02</td>\n",
       "      <td>57258.43</td>\n",
       "      <td>False</td>\n",
       "      <td>16.816667</td>\n",
       "      <td>0.718284</td>\n",
       "      <td>7.808</td>\n",
       "    </tr>\n",
       "    <tr>\n",
       "      <th>3</th>\n",
       "      <td>3</td>\n",
       "      <td>1</td>\n",
       "      <td>A</td>\n",
       "      <td>1</td>\n",
       "      <td>2010-05-07</td>\n",
       "      <td>17413.94</td>\n",
       "      <td>False</td>\n",
       "      <td>22.527778</td>\n",
       "      <td>0.748928</td>\n",
       "      <td>7.808</td>\n",
       "    </tr>\n",
       "    <tr>\n",
       "      <th>4</th>\n",
       "      <td>4</td>\n",
       "      <td>1</td>\n",
       "      <td>A</td>\n",
       "      <td>1</td>\n",
       "      <td>2010-06-04</td>\n",
       "      <td>17558.09</td>\n",
       "      <td>False</td>\n",
       "      <td>27.050000</td>\n",
       "      <td>0.714586</td>\n",
       "      <td>7.808</td>\n",
       "    </tr>\n",
       "  </tbody>\n",
       "</table>\n",
       "</div>"
      ],
      "text/plain": [
       "   Unnamed: 0  store type  department        date  weekly_sales  is_holiday  \\\n",
       "0           0      1    A           1  2010-02-05      24924.50       False   \n",
       "1           1      1    A           1  2010-03-05      21827.90       False   \n",
       "2           2      1    A           1  2010-04-02      57258.43       False   \n",
       "3           3      1    A           1  2010-05-07      17413.94       False   \n",
       "4           4      1    A           1  2010-06-04      17558.09       False   \n",
       "\n",
       "   temperature_c  fuel_price_usd_per_l  unemployment  \n",
       "0       5.727778              0.679451         8.106  \n",
       "1       8.055556              0.693452         8.106  \n",
       "2      16.816667              0.718284         7.808  \n",
       "3      22.527778              0.748928         7.808  \n",
       "4      27.050000              0.714586         7.808  "
      ]
     },
     "execution_count": 7,
     "metadata": {},
     "output_type": "execute_result"
    }
   ],
   "source": [
    "df_sales.head()"
   ]
  },
  {
   "cell_type": "markdown",
   "id": "49c5b2c1-4934-4b5a-afce-8aec80beb942",
   "metadata": {},
   "source": [
    "# Estadisticas de Resumen"
   ]
  },
  {
   "cell_type": "code",
   "execution_count": 10,
   "id": "0cee78cc-9db2-4c0e-ba0a-9139d6e4df61",
   "metadata": {},
   "outputs": [
    {
     "name": "stdout",
     "output_type": "stream",
     "text": [
      "23843.95014850566\n",
      "23843.95014850566\n"
     ]
    }
   ],
   "source": [
    "print(np.mean(df_sales['weekly_sales']))\n",
    "print(df_sales['weekly_sales'].mean())"
   ]
  },
  {
   "cell_type": "code",
   "execution_count": 11,
   "id": "b21c86e1-dcd4-4011-b053-f5ac77a072c4",
   "metadata": {},
   "outputs": [
    {
     "name": "stdout",
     "output_type": "stream",
     "text": [
      "12049.064999999999\n",
      "12049.064999999999\n"
     ]
    }
   ],
   "source": [
    "print(np.median(df_sales['weekly_sales']))\n",
    "print(df_sales['weekly_sales'].median())"
   ]
  },
  {
   "cell_type": "code",
   "execution_count": 12,
   "id": "c926bd86-09ea-44d3-9694-b91817ca0231",
   "metadata": {},
   "outputs": [
    {
     "name": "stdout",
     "output_type": "stream",
     "text": [
      "2012-10-26\n"
     ]
    }
   ],
   "source": [
    "print(df_sales['date'].max())"
   ]
  },
  {
   "cell_type": "code",
   "execution_count": 13,
   "id": "05cd4a7f-ae73-441a-8c7c-360f86da998a",
   "metadata": {},
   "outputs": [
    {
     "name": "stdout",
     "output_type": "stream",
     "text": [
      "2010-02-05\n"
     ]
    }
   ],
   "source": [
    "print(df_sales['date'].min())"
   ]
  },
  {
   "cell_type": "code",
   "execution_count": 15,
   "id": "04250fcf-cae5-4697-8579-1d2c5b0c4db3",
   "metadata": {},
   "outputs": [
    {
     "name": "stdout",
     "output_type": "stream",
     "text": [
      "16.583333333333336\n"
     ]
    }
   ],
   "source": [
    "# Una función IQR personalizada\n",
    "def iqr(column):\n",
    "    return column.quantile(0.75) - column.quantile(0.25)\n",
    "    \n",
    "# Imprime IQR de la columna temperature_c\n",
    "print(df_sales['temperature_c'].agg(iqr))"
   ]
  },
  {
   "cell_type": "code",
   "execution_count": 16,
   "id": "c6abd230-fd22-46fd-b9a6-ff88fcbb05b9",
   "metadata": {},
   "outputs": [
    {
     "name": "stdout",
     "output_type": "stream",
     "text": [
      "temperature_c           16.583333\n",
      "fuel_price_usd_per_l     0.073176\n",
      "unemployment             0.565000\n",
      "dtype: float64\n"
     ]
    }
   ],
   "source": [
    "# Actualiza el código para imprimir IQR de temperature_c, fuel_price_usd_per_l y unemployment\n",
    "print(df_sales[[\"temperature_c\", 'fuel_price_usd_per_l', 'unemployment']].agg(iqr))"
   ]
  },
  {
   "cell_type": "code",
   "execution_count": 18,
   "id": "1968d0e5-dac9-4357-93f8-db9203a5fa82",
   "metadata": {},
   "outputs": [
    {
     "name": "stdout",
     "output_type": "stream",
     "text": [
      "        temperature_c  fuel_price_usd_per_l  unemployment\n",
      "iqr         16.583333              0.073176         0.565\n",
      "median      16.966667              0.743381         8.099\n"
     ]
    }
   ],
   "source": [
    "# Actualiza el código para imprimir IQR y np.median de temperature_c, fuel_price_usd_per_l, y unemployment\n",
    "print(df_sales[[\"temperature_c\", \"fuel_price_usd_per_l\", \"unemployment\"]].agg([iqr,'median']))"
   ]
  },
  {
   "cell_type": "code",
   "execution_count": 20,
   "id": "08107cd4-d216-45f3-934b-2494031b64e6",
   "metadata": {},
   "outputs": [
    {
     "name": "stdout",
     "output_type": "stream",
     "text": [
      "          date  weekly_sales  cum_weekly_sales  cum_max_sales\n",
      "0   2010-02-05      24924.50          24924.50       24924.50\n",
      "1   2010-03-05      21827.90          46752.40       24924.50\n",
      "2   2010-04-02      57258.43         104010.83       57258.43\n",
      "3   2010-05-07      17413.94         121424.77       57258.43\n",
      "4   2010-06-04      17558.09         138982.86       57258.43\n",
      "5   2010-07-02      16333.14         155316.00       57258.43\n",
      "6   2010-08-06      17508.41         172824.41       57258.43\n",
      "7   2010-09-03      16241.78         189066.19       57258.43\n",
      "8   2010-10-01      20094.19         209160.38       57258.43\n",
      "9   2010-11-05      34238.88         243399.26       57258.43\n",
      "10  2010-12-03      22517.56         265916.82       57258.43\n",
      "11  2011-01-07      15984.24         281901.06       57258.43\n"
     ]
    }
   ],
   "source": [
    "# Estadisticas Acumuladas\n",
    "\n",
    "sales_1_1 = df_sales[(df_sales['department']==1) &  (df_sales['store']==1)]\n",
    "\n",
    "# Ordena sales_1_1 por date\n",
    "sales_1_1 = sales_1_1.sort_values(\"date\",ascending=True)\n",
    "\n",
    "# Obtén la suma acumulada de weekly_sales, y añádela como cum_weekly_sales\n",
    "sales_1_1['cum_weekly_sales'] = sales_1_1['weekly_sales'].cumsum()\n",
    "\n",
    "# Obtén el máximo acumulativo de weekly_sales y añádelo como cum_max_sales\n",
    "sales_1_1['cum_max_sales'] = sales_1_1['weekly_sales'].cummax()\n",
    "\n",
    "# Consulta las columnas que calculaste\n",
    "print(sales_1_1[[\"date\", \"weekly_sales\", \"cum_weekly_sales\", \"cum_max_sales\"]])"
   ]
  },
  {
   "attachments": {
    "d05731f3-84d7-44a0-b71d-017e10e6b523.png": {
     "image/png": "[encoded data removed]"
    }
   },
   "cell_type": "markdown",
   "id": "385273e2-8d6a-46f1-90c8-7e30179db869",
   "metadata": {},
   "source": [
    "# Eliminar duplicados\n",
    "![image.png](attachment:d05731f3-84d7-44a0-b71d-017e10e6b523.png)"
   ]
  },
  {
   "cell_type": "code",
   "execution_count": 22,
   "id": "4f73d03f-32a4-4fde-9ed7-1cad01f4231b",
   "metadata": {
    "scrolled": true
   },
   "outputs": [
    {
     "name": "stdout",
     "output_type": "stream",
     "text": [
      "      Unnamed: 0  store type  department        date  weekly_sales  \\\n",
      "0              0      1    A           1  2010-02-05      24924.50   \n",
      "901          901      2    A           1  2010-02-05      35034.06   \n",
      "1798        1798      4    A           1  2010-02-05      38724.42   \n",
      "2699        2699      6    A           1  2010-02-05      25619.00   \n",
      "3593        3593     10    B           1  2010-02-05      40212.84   \n",
      "\n",
      "      is_holiday  temperature_c  fuel_price_usd_per_l  unemployment  \n",
      "0          False       5.727778              0.679451         8.106  \n",
      "901        False       4.550000              0.679451         8.324  \n",
      "1798       False       6.533333              0.686319         8.623  \n",
      "2699       False       4.683333              0.679451         7.259  \n",
      "3593       False      12.411111              0.782478         9.765  \n",
      "    Unnamed: 0  store type  department        date  weekly_sales  is_holiday  \\\n",
      "0            0      1    A           1  2010-02-05      24924.50       False   \n",
      "12          12      1    A           2  2010-02-05      50605.27       False   \n",
      "24          24      1    A           3  2010-02-05      13740.12       False   \n",
      "36          36      1    A           4  2010-02-05      39954.04       False   \n",
      "48          48      1    A           5  2010-02-05      32229.38       False   \n",
      "\n",
      "    temperature_c  fuel_price_usd_per_l  unemployment  \n",
      "0        5.727778              0.679451         8.106  \n",
      "12       5.727778              0.679451         8.106  \n",
      "24       5.727778              0.679451         8.106  \n",
      "36       5.727778              0.679451         8.106  \n",
      "48       5.727778              0.679451         8.106  \n",
      "498     2010-09-10\n",
      "691     2011-11-25\n",
      "2315    2010-02-12\n",
      "6735    2012-09-07\n",
      "6810    2010-12-31\n",
      "6815    2012-02-10\n",
      "6820    2011-09-09\n",
      "Name: date, dtype: object\n"
     ]
    }
   ],
   "source": [
    "# Elimina combinaciones duplicadas de store/type\n",
    "store_types = df_sales.drop_duplicates(subset=[\"store\",\"type\"])\n",
    "print(store_types.head())\n",
    "\n",
    "# Elimina combinaciones duplicadas de store/department\n",
    "store_depts = df_sales.drop_duplicates(subset=[\"store\",\"department\"])\n",
    "print(store_depts.head())\n",
    "\n",
    "# Selecciona las filas donde is_holiday es True y elimina fechas duplicadas\n",
    "holiday_dates = df_sales[df_sales['is_holiday'] == True].drop_duplicates(subset=\"date\")\n",
    "\n",
    "# Imprime la columna date de holiday_dates\n",
    "print(holiday_dates['date'])"
   ]
  },
  {
   "attachments": {},
   "cell_type": "markdown",
   "id": "3acb0daa-d1a3-4647-b4da-a002ed463f2d",
   "metadata": {},
   "source": [
    "# Contar variables categoricas"
   ]
  },
  {
   "cell_type": "code",
   "execution_count": 24,
   "id": "8620df0f-a31c-44f6-aaa4-fe2f37dae838",
   "metadata": {
    "scrolled": true
   },
   "outputs": [
    {
     "name": "stdout",
     "output_type": "stream",
     "text": [
      "type\n",
      "A    11\n",
      "B     1\n",
      "Name: count, dtype: int64\n",
      "type\n",
      "A    0.916667\n",
      "B    0.083333\n",
      "Name: proportion, dtype: float64\n",
      "department\n",
      "1     12\n",
      "2     12\n",
      "3     12\n",
      "4     12\n",
      "5     12\n",
      "      ..\n",
      "37    10\n",
      "48     8\n",
      "50     6\n",
      "39     4\n",
      "43     2\n",
      "Name: count, Length: 80, dtype: int64\n",
      "department\n",
      "1     0.012917\n",
      "2     0.012917\n",
      "3     0.012917\n",
      "4     0.012917\n",
      "5     0.012917\n",
      "        ...   \n",
      "37    0.010764\n",
      "48    0.008611\n",
      "50    0.006459\n",
      "39    0.004306\n",
      "43    0.002153\n",
      "Name: proportion, Length: 80, dtype: float64\n"
     ]
    }
   ],
   "source": [
    "# Cuenta el número de tiendas de cada type\n",
    "store_counts = store_types['type'].value_counts()\n",
    "print(store_counts)\n",
    "\n",
    "# Obtén la proporción de tiendas de cada type\n",
    "store_props = store_types['type'].value_counts(normalize=True)\n",
    "print(store_props)\n",
    "\n",
    "# Cuenta el número de cada department y ordena\n",
    "dept_counts_sorted = store_depts['department'].value_counts(sort=True)\n",
    "print(dept_counts_sorted)\n",
    "\n",
    "# Obtén la proporción de cada department y ordena\n",
    "dept_props_sorted = store_depts['department'].value_counts(sort=True, normalize=True)\n",
    "print(dept_props_sorted)"
   ]
  },
  {
   "cell_type": "code",
   "execution_count": 25,
   "id": "1205f0ff-b084-4914-a7bf-a88f01ac9a6e",
   "metadata": {},
   "outputs": [
    {
     "name": "stdout",
     "output_type": "stream",
     "text": [
      "[0.9097747 0.0902253 0.       ]\n"
     ]
    }
   ],
   "source": [
    "# calculo de ventas semanales\n",
    "# Ventas semanales totales\n",
    "sales_all = df_sales[\"weekly_sales\"].sum()\n",
    "\n",
    "# Selecciona las tiendas tipo A, calcula las ventas semanales totales\n",
    "sales_A = df_sales[df_sales[\"type\"] == \"A\"][\"weekly_sales\"].sum()\n",
    "\n",
    "# Selecciona las tiendas tipo B, calcula las ventas semanales totales\n",
    "sales_B = df_sales[df_sales[\"type\"] == \"B\"][\"weekly_sales\"].sum()\n",
    "\n",
    "# Selecciona las tiendas tipo C, calcula las ventas semanales totales\n",
    "sales_C = df_sales[df_sales[\"type\"] == \"C\"][\"weekly_sales\"].sum()\n",
    "\n",
    "# Obtén la proporción de cada tipo\n",
    "sales_propn_by_type = [sales_A, sales_B, sales_C] / sales_all\n",
    "print(sales_propn_by_type)"
   ]
  },
  {
   "cell_type": "markdown",
   "id": "ad318d9e-7391-4e5f-bc14-2fe223f6edde",
   "metadata": {},
   "source": [
    "# Agrupar"
   ]
  },
  {
   "cell_type": "code",
   "execution_count": 42,
   "id": "b5fc7c82-b498-44a8-bd04-4eae25889bab",
   "metadata": {},
   "outputs": [
    {
     "name": "stdout",
     "output_type": "stream",
     "text": [
      "type\n",
      "A    2.337163e+08\n",
      "B    2.317840e+07\n",
      "Name: weekly_sales, dtype: float64 \n",
      "\n",
      "type\n",
      "A    0.909775\n",
      "B    0.090225\n",
      "Name: weekly_sales, dtype: float64 \n",
      "\n",
      "type  is_holiday\n",
      "A     False         2.336927e+08\n",
      "      True          2.360181e+04\n",
      "B     False         2.317678e+07\n",
      "      True          1.621410e+03\n",
      "Name: weekly_sales, dtype: float64 \n",
      "\n"
     ]
    }
   ],
   "source": [
    "# Agrupa por type; calcula la suma de weekly_sales\n",
    "sales_by_type = df_sales.groupby(\"type\")[\"weekly_sales\"].sum()\n",
    "print(f'{sales_by_type} \\n')\n",
    "\n",
    "# Obtén la proporción de cada tipo\n",
    "sales_propn_by_type = sales_by_type / sum(df_sales['weekly_sales'])\n",
    "print(f'{sales_propn_by_type} \\n')\n",
    "\n",
    "\n",
    "# Agrupa por type y por is_holiday; calcula el total de weekly_sales\n",
    "sales_by_type_is_holiday = df_sales.groupby([\"type\",\"is_holiday\"])[\"weekly_sales\"].sum()\n",
    "print(f'{sales_by_type_is_holiday} \\n')"
   ]
  },
  {
   "cell_type": "code",
   "execution_count": 52,
   "id": "17036cd3-57e6-4cec-9494-5664db51eec4",
   "metadata": {},
   "outputs": [
    {
     "name": "stdout",
     "output_type": "stream",
     "text": [
      "sales_stats: \n",
      "          min        max          mean    median\n",
      "type                                           \n",
      "A    -1098.0  293966.05  23674.667242  11943.92\n",
      "B     -798.0  232558.51  25696.678370  13336.08 \n",
      "\n",
      "unemp_fuel_stats: \n",
      "      unemployment                         fuel_price_usd_per_l            \\\n",
      "              min    max      mean median                  min       max   \n",
      "type                                                                       \n",
      "A           3.879  8.992  7.972611  8.067             0.664129  1.107410   \n",
      "B           7.170  9.765  9.279323  9.199             0.760023  1.107674   \n",
      "\n",
      "                          \n",
      "          mean    median  \n",
      "type                      \n",
      "A     0.744619  0.735455  \n",
      "B     0.805858  0.803348   \n",
      "\n"
     ]
    }
   ],
   "source": [
    "# Para cada tipo de tienda, agrega weekly_sales: obtén min, max, media y mediana\n",
    "sales_stats = df_sales.groupby('type')['weekly_sales'].agg(['min','max','mean','median'])\n",
    "\n",
    "# Imprime sales_stats\n",
    "print(f'sales_stats: \\n {sales_stats} \\n')\n",
    "\n",
    "# Para cada tipo de tienda, agrega unemployment y fuel_price_usd_per_l: obtén mínimo, máximo, media y mediana\n",
    "unemp_fuel_stats = df_sales.groupby('type')[['unemployment','fuel_price_usd_per_l']].agg(['min','max', 'mean', 'median'])\n",
    "\n",
    "# Imprime unemp_fuel_stats\n",
    "print(f'unemp_fuel_stats: \\n {unemp_fuel_stats} \\n')"
   ]
  },
  {
   "cell_type": "markdown",
   "id": "39389187-915e-4964-ba5f-e9374ec325a3",
   "metadata": {},
   "source": [
    "# Tablas dinamicas\n",
    "\n",
    "En pandas, las tablas dinámicas son esencialmente otra forma de realizar cálculos agrupados. Es decir, el método .pivot_table() es una alternativa a .groupby().\n",
    "\n",
    "El método .pivot_table() tiene varios argumentos útiles, como fill_value y margins.\n",
    "\n",
    "- Por defecto pivot_table calcula la media de la columna que le indicamos en values para cada grupo.\n",
    "\n",
    "### Parametros\n",
    "- `values` : este argumento es la columna que deseo resumir, es decir, sobre las que queremos calcular las estadisticas.\n",
    "- `index` : este argumento es por el cual queremos agrupar.\n",
    "- `aggfunc` : para el caso que querramos una estadistica diferente a la media. Si quiero calcular mas de una cosa, le paso un array de funciones. Las funciones las obtengo de numpy(al menos en la version de python de datacamp).\n",
    "    - si queremos aplicar una funcion sobre mas de una columna, debemos pasarle un diccionario, donde la clave es la columna, y el valor es la funcion o lista de funciones a aplicar. Ejemplo:\n",
    "    - `dogs.pivot_table(values = 'weight_kg', index = 'color', aggfunc = {'columna':funcion, 'weight_kg': [np.median,  np.mean]})`\n",
    "- `columns` : si queremos agrupar por mas de una variable, usamos el parametro columns. Como resultado vamos a tener una tabla donde las filas son el parametro indicado en values, las columnas son la variable indicada en columns.\n",
    "- `fill_values` : se puede dar el caso, que al crear la tabla dinamica, me queden NaN. Si quiero rellenar esos espacios con un valor por ej 0, utilizo este parametro.\n",
    "- `margins` : este parametro nos va a dar estadisticas de todas las filas y columnas."
   ]
  },
  {
   "cell_type": "code",
   "execution_count": 53,
   "id": "461812e5-0d6d-480e-88ab-e1dceab8d674",
   "metadata": {},
   "outputs": [
    {
     "name": "stdout",
     "output_type": "stream",
     "text": [
      "      weekly_sales\n",
      "type              \n",
      "A     23674.667242\n",
      "B     25696.678370\n"
     ]
    }
   ],
   "source": [
    "# Usa pivot_table para calcular la media de weekly_sales por tipo de tienda\n",
    "mean_sales_by_type = df_sales.pivot_table(values=\"weekly_sales\", index=\"type\")\n",
    "\n",
    "# Imprime mean_sales_by_type\n",
    "print(mean_sales_by_type)"
   ]
  },
  {
   "cell_type": "code",
   "execution_count": 55,
   "id": "e8e6c3d9-138f-4d84-baac-1ff6d5080ccd",
   "metadata": {},
   "outputs": [
    {
     "name": "stdout",
     "output_type": "stream",
     "text": [
      "              mean       median\n",
      "      weekly_sales weekly_sales\n",
      "type                           \n",
      "A     23674.667242     11943.92\n",
      "B     25696.678370     13336.08\n"
     ]
    }
   ],
   "source": [
    "# Usa pivot_table para calcular la medias y mediana de weekly_sales para cada tipo de tienda\n",
    "mean_med_sales_by_type = df_sales.pivot_table(values='weekly_sales',index='type',aggfunc = ['mean','median'])\n",
    "\n",
    "# Imprime mean_med_sales_by_type\n",
    "print(mean_med_sales_by_type)"
   ]
  },
  {
   "cell_type": "code",
   "execution_count": 56,
   "id": "0c5dd6eb-d0a1-4667-991f-517517cda70c",
   "metadata": {},
   "outputs": [
    {
     "name": "stdout",
     "output_type": "stream",
     "text": [
      "is_holiday         False      True \n",
      "type                               \n",
      "A           23768.583523  590.04525\n",
      "B           25751.980533  810.70500\n"
     ]
    }
   ],
   "source": [
    "# Usa pivot_table para calcular la media de weekly_sales por type y por is_holiday \n",
    "mean_sales_by_type_holiday = df_sales.pivot_table(values='weekly_sales', index='type',columns='is_holiday')\n",
    "\n",
    "# Imprime mean_sales_by_type_holiday\n",
    "print(mean_sales_by_type_holiday)"
   ]
  },
  {
   "cell_type": "code",
   "execution_count": 57,
   "id": "96c033b4-4220-4650-8c93-9a2574f661ce",
   "metadata": {},
   "outputs": [
    {
     "name": "stdout",
     "output_type": "stream",
     "text": [
      "type                    A              B\n",
      "department                              \n",
      "1            30961.725379   44050.626667\n",
      "2            67600.158788  112958.526667\n",
      "3            17160.002955   30580.655000\n",
      "4            44285.399091   51219.654167\n",
      "5            34821.011364   63236.875000\n",
      "...                   ...            ...\n",
      "95          123933.787121   77082.102500\n",
      "96           21367.042857    9528.538333\n",
      "97           28471.266970    5828.873333\n",
      "98           12875.423182     217.428333\n",
      "99             379.123659       0.000000\n",
      "\n",
      "[80 rows x 2 columns]\n"
     ]
    }
   ],
   "source": [
    "# Imprime la media de weekly_sales por department y type; rellena valores faltantes con 0\n",
    "print(df_sales.pivot_table(values='weekly_sales',index='department',columns='type', fill_value =0))"
   ]
  },
  {
   "cell_type": "code",
   "execution_count": 58,
   "id": "b1df1de5-f0bd-4682-ba18-fb86bf48f5df",
   "metadata": {},
   "outputs": [
    {
     "name": "stdout",
     "output_type": "stream",
     "text": [
      "type                   A              B           All\n",
      "department                                           \n",
      "1           30961.725379   44050.626667  32052.467153\n",
      "2           67600.158788  112958.526667  71380.022778\n",
      "3           17160.002955   30580.655000  18278.390625\n",
      "4           44285.399091   51219.654167  44863.253681\n",
      "5           34821.011364   63236.875000  37189.000000\n",
      "...                  ...            ...           ...\n",
      "96          21367.042857    9528.538333  20337.607681\n",
      "97          28471.266970    5828.873333  26584.400833\n",
      "98          12875.423182     217.428333  11820.590278\n",
      "99            379.123659       0.000000    379.123659\n",
      "All         23674.667242   25696.678370  23843.950149\n",
      "\n",
      "[81 rows x 3 columns]\n"
     ]
    }
   ],
   "source": [
    "# Imprime la media de weekly_sales por department y type; rellena los valores faltantes con 0s; suma todas las filas y columnas\n",
    "print(df_sales.pivot_table(values=\"weekly_sales\", index=\"department\", columns=\"type\", fill_value=0, margins=True))"
   ]
  }
 ],
 "metadata": {
  "kernelspec": {
   "display_name": "Python 3 (ipykernel)",
   "language": "python",
   "name": "python3"
  },
  "language_info": {
   "codemirror_mode": {
    "name": "ipython",
    "version": 3
   },
   "file_extension": ".py",
   "mimetype": "text/x-python",
   "name": "python",
   "nbconvert_exporter": "python",
   "pygments_lexer": "ipython3",
   "version": "3.12.3"
  }
 },
 "nbformat": 4,
 "nbformat_minor": 5
}
